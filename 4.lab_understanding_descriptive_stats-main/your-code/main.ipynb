{
 "cells": [
  {
   "cell_type": "markdown",
   "metadata": {},
   "source": [
    "# Understanding Descriptive Statistics\n",
    "\n",
    "Import the necessary libraries here:"
   ]
  },
  {
   "cell_type": "code",
   "execution_count": 7,
   "metadata": {},
   "outputs": [],
   "source": [
    "# Libraries\n",
    "\n",
    "import random\n",
    "import pandas as pd\n",
    "from collections import Counter\n",
    "import matplotlib.pyplot as plt\n",
    "import numpy as np"
   ]
  },
  {
   "cell_type": "markdown",
   "metadata": {},
   "source": [
    "## Challenge 1\n",
    "#### 1.- Define a function that simulates rolling a dice 10 times. Save the information in a dataframe.\n",
    "**Hint**: you can use the *choices* function from module *random* to help you with the simulation."
   ]
  },
  {
   "cell_type": "code",
   "execution_count": 8,
   "metadata": {},
   "outputs": [
    {
     "data": {
      "text/plain": [
       "[1, 6, 1, 1, 2, 4, 4, 2, 2, 3]"
      ]
     },
     "execution_count": 8,
     "metadata": {},
     "output_type": "execute_result"
    }
   ],
   "source": [
    "# your code here\n",
    "\n",
    "resultados = random.choices(list(range(1,7)), k=10)\n",
    "resultados"
   ]
  },
  {
   "cell_type": "markdown",
   "metadata": {},
   "source": [
    "#### 2.- Plot the results sorted by value."
   ]
  },
  {
   "cell_type": "code",
   "execution_count": 9,
   "metadata": {},
   "outputs": [
    {
     "data": {
      "text/plain": [
       "[1, 1, 1, 2, 2, 2, 3, 4, 4, 6]"
      ]
     },
     "execution_count": 9,
     "metadata": {},
     "output_type": "execute_result"
    }
   ],
   "source": [
    "# your code here\n",
    "\n",
    "resultados_ordenados = sorted(resultados)\n",
    "resultados_ordenados"
   ]
  },
  {
   "cell_type": "markdown",
   "metadata": {},
   "source": [
    "#### 3.- Calculate the frequency distribution and plot it. What is the relation between this plot and the plot above? Describe it with words."
   ]
  },
  {
   "cell_type": "code",
   "execution_count": 14,
   "metadata": {},
   "outputs": [
    {
     "name": "stdout",
     "output_type": "stream",
     "text": [
      "Los veces que aparece cada valor son:  Counter({1: 3, 2: 3, 4: 2, 3: 1, 6: 1})\n",
      "\n",
      "\n",
      "Los valores que existen en la lista son  [1, 2, 3, 4, 6] y cada uno sale las siguientes veces  [3, 3, 1, 2, 1]\n"
     ]
    },
    {
     "data": {
      "image/png": "[encoded data removed]",
      "text/plain": [
       "<Figure size 1000x500 with 1 Axes>"
      ]
     },
     "metadata": {},
     "output_type": "display_data"
    }
   ],
   "source": [
    "# Calcular la distribución de frecuencias\n",
    "\n",
    "frecuencias = Counter(resultados_ordenados)\n",
    "print('Los veces que aparece cada valor son: ', frecuencias)\n",
    "print()\n",
    "valores = list(frecuencias.keys())\n",
    "print()\n",
    "conteos = list(frecuencias.values())\n",
    "print('Los valores que existen en la lista son ', valores, 'y cada uno sale las siguientes veces ', conteos)\n",
    "\n",
    "plt.figure(figsize=(10, 5))\n",
    "plt.bar(valores, conteos, color='skyblue')\n",
    "plt.title('Distribución de Frecuencias')\n",
    "plt.xlabel('Valor')\n",
    "plt.ylabel('Frecuencia')\n",
    "plt.grid(True)\n",
    "plt.show()"
   ]
  },
  {
   "cell_type": "code",
   "execution_count": 15,
   "metadata": {},
   "outputs": [
    {
     "data": {
      "text/plain": [
       "'\\nAparecen los números 1, 2, 3, 4 y 5, y las veces que aparece cada número en la lista son:\\n\\n1: 1 vez\\n2: 3 veces\\n3: 2 veces\\n4: 3 veces\\n5: 1 vez\\n\\nPor tanto, los números que más aparecen son el número 2 y el número 4.\\n\\n'"
      ]
     },
     "execution_count": 15,
     "metadata": {},
     "output_type": "execute_result"
    }
   ],
   "source": [
    "\"\"\"\n",
    "Aparecen los números 1, 2, 3, 4 y 5, y las veces que aparece cada número en la lista son:\n",
    "\n",
    "1: 1 vez\n",
    "2: 3 veces\n",
    "3: 2 veces\n",
    "4: 3 veces\n",
    "5: 1 vez\n",
    "\n",
    "Por tanto, los números que más aparecen son el número 2 y el número 4.\n",
    "\n",
    "\"\"\""
   ]
  },
  {
   "cell_type": "markdown",
   "metadata": {},
   "source": [
    "## Challenge 2\n",
    "Now, using the dice results obtained in *challenge 1*, your are going to define some functions that will help you calculate the mean of your data in two different ways, the median and the four quartiles. \n",
    "\n",
    "#### 1.- Define a function that computes the mean by summing all the observations and dividing by the total number of observations. You are not allowed to use any methods or functions that directly calculate the mean value. "
   ]
  },
  {
   "cell_type": "code",
   "execution_count": 16,
   "metadata": {},
   "outputs": [
    {
     "data": {
      "text/plain": [
       "2.6"
      ]
     },
     "execution_count": 16,
     "metadata": {},
     "output_type": "execute_result"
    }
   ],
   "source": [
    "# your code here\n",
    "\n",
    "suma = 0\n",
    "n = 0\n",
    "\n",
    "for valor in resultados:\n",
    "    suma += valor\n",
    "    n += 1\n",
    "\n",
    "media = suma / n\n",
    "media"
   ]
  },
  {
   "cell_type": "markdown",
   "metadata": {},
   "source": [
    "#### 2.- First, calculate the frequency distribution. Then, calculate the mean using the values of the frequency distribution you've just computed. You are not allowed to use any methods or functions that directly calculate the mean value. "
   ]
  },
  {
   "cell_type": "code",
   "execution_count": 17,
   "metadata": {},
   "outputs": [
    {
     "data": {
      "text/plain": [
       "2.6"
      ]
     },
     "execution_count": 17,
     "metadata": {},
     "output_type": "execute_result"
    }
   ],
   "source": [
    "# your code here\n",
    "\n",
    "suma = 0\n",
    "total_observaciones = 0\n",
    "\n",
    "for valor, frecuencia in frecuencias.items():\n",
    "    suma += valor * frecuencia\n",
    "    total_observaciones += frecuencia\n",
    "\n",
    "media = suma / total_observaciones\n",
    "media\n"
   ]
  },
  {
   "cell_type": "markdown",
   "metadata": {},
   "source": [
    "#### 3.- Define a function to calculate the median. You are not allowed to use any methods or functions that directly calculate the median value. \n",
    "**Hint**: you might need to define two computation cases depending on the number of observations used to calculate the median."
   ]
  },
  {
   "cell_type": "code",
   "execution_count": 18,
   "metadata": {},
   "outputs": [
    {
     "data": {
      "text/plain": [
       "2.0"
      ]
     },
     "execution_count": 18,
     "metadata": {},
     "output_type": "execute_result"
    }
   ],
   "source": [
    "# your code here\n",
    "\n",
    "n = len(resultados_ordenados)\n",
    "if n % 2 == 1:\n",
    "    mediana = resultados_ordenados[n // 2]\n",
    "else:\n",
    "    mediana = (resultados_ordenados[n // 2 - 1] + resultados_ordenados[n // 2]) / 2\n",
    "\n",
    "mediana\n"
   ]
  },
  {
   "cell_type": "markdown",
   "metadata": {},
   "source": [
    "#### 4.- Define a function to calculate the four quartiles. You can use the function you defined above to compute the median but you are not allowed to use any methods or functions that directly calculate the quartiles. "
   ]
  },
  {
   "cell_type": "code",
   "execution_count": 19,
   "metadata": {},
   "outputs": [],
   "source": [
    "# your code here\n",
    "\n",
    "def calcular_cuartiles(datos):\n",
    "\n",
    "    datos_ordenados\n",
    "    \n",
    "    mediana = calcular_mediana(datos_ordenados)\n",
    "    \n",
    "    mitad_inferior = [dato for dato in datos_ordenados if dato < mediana]\n",
    "    mitad_superior = [dato for dato in datos_ordenados if dato > mediana]\n",
    "    \n",
    "    cuartil_1 = calcular_mediana(mitad_inferior)\n",
    "    cuartil_3 = calcular_mediana(mitad_superior)\n",
    "    \n",
    "    return cuartil_1, mediana, cuartil_3\n",
    "\n",
    "def calcular_mediana(datos):\n",
    "    n = len(datos)\n",
    "    if n % 2 == 0:\n",
    "        \n",
    "        # Si hay un número par de datos, la mediana es el promedio de los dos datos centrales\n",
    "        indice_central_1 = n // 2 - 1\n",
    "        indice_central_2 = n // 2\n",
    "        mediana = (datos[indice_central_1] + datos[indice_central_2]) / 2\n",
    "    else:\n",
    "        \n",
    "        # Si hay un número impar de datos, la mediana es el dato central\n",
    "        indice_central = n // 2\n",
    "        mediana = datos[indice_central]\n",
    "    return mediana"
   ]
  },
  {
   "cell_type": "markdown",
   "metadata": {},
   "source": [
    "## Challenge 3\n",
    "Read the csv `roll_the_dice_hundred.csv` from the `data` folder.\n",
    "#### 1.- Sort the values and plot them. What do you see?"
   ]
  },
  {
   "cell_type": "code",
   "execution_count": 20,
   "metadata": {
    "scrolled": true
   },
   "outputs": [
    {
     "data": {
      "text/html": [
       "<div>\n",
       "<style scoped>\n",
       "    .dataframe tbody tr th:only-of-type {\n",
       "        vertical-align: middle;\n",
       "    }\n",
       "\n",
       "    .dataframe tbody tr th {\n",
       "        vertical-align: top;\n",
       "    }\n",
       "\n",
       "    .dataframe thead th {\n",
       "        text-align: right;\n",
       "    }\n",
       "</style>\n",
       "<table border=\"1\" class=\"dataframe\">\n",
       "  <thead>\n",
       "    <tr style=\"text-align: right;\">\n",
       "      <th></th>\n",
       "      <th>Unnamed: 0</th>\n",
       "      <th>roll</th>\n",
       "      <th>value</th>\n",
       "    </tr>\n",
       "  </thead>\n",
       "  <tbody>\n",
       "    <tr>\n",
       "      <th>0</th>\n",
       "      <td>0</td>\n",
       "      <td>0</td>\n",
       "      <td>1</td>\n",
       "    </tr>\n",
       "    <tr>\n",
       "      <th>1</th>\n",
       "      <td>1</td>\n",
       "      <td>1</td>\n",
       "      <td>2</td>\n",
       "    </tr>\n",
       "    <tr>\n",
       "      <th>2</th>\n",
       "      <td>2</td>\n",
       "      <td>2</td>\n",
       "      <td>6</td>\n",
       "    </tr>\n",
       "    <tr>\n",
       "      <th>3</th>\n",
       "      <td>3</td>\n",
       "      <td>3</td>\n",
       "      <td>1</td>\n",
       "    </tr>\n",
       "    <tr>\n",
       "      <th>4</th>\n",
       "      <td>4</td>\n",
       "      <td>4</td>\n",
       "      <td>6</td>\n",
       "    </tr>\n",
       "    <tr>\n",
       "      <th>...</th>\n",
       "      <td>...</td>\n",
       "      <td>...</td>\n",
       "      <td>...</td>\n",
       "    </tr>\n",
       "    <tr>\n",
       "      <th>95</th>\n",
       "      <td>95</td>\n",
       "      <td>95</td>\n",
       "      <td>4</td>\n",
       "    </tr>\n",
       "    <tr>\n",
       "      <th>96</th>\n",
       "      <td>96</td>\n",
       "      <td>96</td>\n",
       "      <td>6</td>\n",
       "    </tr>\n",
       "    <tr>\n",
       "      <th>97</th>\n",
       "      <td>97</td>\n",
       "      <td>97</td>\n",
       "      <td>1</td>\n",
       "    </tr>\n",
       "    <tr>\n",
       "      <th>98</th>\n",
       "      <td>98</td>\n",
       "      <td>98</td>\n",
       "      <td>3</td>\n",
       "    </tr>\n",
       "    <tr>\n",
       "      <th>99</th>\n",
       "      <td>99</td>\n",
       "      <td>99</td>\n",
       "      <td>6</td>\n",
       "    </tr>\n",
       "  </tbody>\n",
       "</table>\n",
       "<p>100 rows × 3 columns</p>\n",
       "</div>"
      ],
      "text/plain": [
       "    Unnamed: 0  roll  value\n",
       "0            0     0      1\n",
       "1            1     1      2\n",
       "2            2     2      6\n",
       "3            3     3      1\n",
       "4            4     4      6\n",
       "..         ...   ...    ...\n",
       "95          95    95      4\n",
       "96          96    96      6\n",
       "97          97    97      1\n",
       "98          98    98      3\n",
       "99          99    99      6\n",
       "\n",
       "[100 rows x 3 columns]"
      ]
     },
     "execution_count": 20,
     "metadata": {},
     "output_type": "execute_result"
    }
   ],
   "source": [
    "# your code here\n",
    "\n",
    "data = pd.read_csv('../data/roll_the_dice_hundred.csv')\n",
    "data"
   ]
  },
  {
   "cell_type": "code",
   "execution_count": 21,
   "metadata": {},
   "outputs": [
    {
     "data": {
      "text/html": [
       "<div>\n",
       "<style scoped>\n",
       "    .dataframe tbody tr th:only-of-type {\n",
       "        vertical-align: middle;\n",
       "    }\n",
       "\n",
       "    .dataframe tbody tr th {\n",
       "        vertical-align: top;\n",
       "    }\n",
       "\n",
       "    .dataframe thead th {\n",
       "        text-align: right;\n",
       "    }\n",
       "</style>\n",
       "<table border=\"1\" class=\"dataframe\">\n",
       "  <thead>\n",
       "    <tr style=\"text-align: right;\">\n",
       "      <th></th>\n",
       "      <th>Unnamed: 0</th>\n",
       "      <th>roll</th>\n",
       "      <th>value</th>\n",
       "    </tr>\n",
       "  </thead>\n",
       "  <tbody>\n",
       "    <tr>\n",
       "      <th>0</th>\n",
       "      <td>0</td>\n",
       "      <td>0</td>\n",
       "      <td>1</td>\n",
       "    </tr>\n",
       "    <tr>\n",
       "      <th>47</th>\n",
       "      <td>47</td>\n",
       "      <td>47</td>\n",
       "      <td>1</td>\n",
       "    </tr>\n",
       "    <tr>\n",
       "      <th>56</th>\n",
       "      <td>56</td>\n",
       "      <td>56</td>\n",
       "      <td>1</td>\n",
       "    </tr>\n",
       "    <tr>\n",
       "      <th>9</th>\n",
       "      <td>9</td>\n",
       "      <td>9</td>\n",
       "      <td>1</td>\n",
       "    </tr>\n",
       "    <tr>\n",
       "      <th>73</th>\n",
       "      <td>73</td>\n",
       "      <td>73</td>\n",
       "      <td>1</td>\n",
       "    </tr>\n",
       "    <tr>\n",
       "      <th>...</th>\n",
       "      <td>...</td>\n",
       "      <td>...</td>\n",
       "      <td>...</td>\n",
       "    </tr>\n",
       "    <tr>\n",
       "      <th>17</th>\n",
       "      <td>17</td>\n",
       "      <td>17</td>\n",
       "      <td>6</td>\n",
       "    </tr>\n",
       "    <tr>\n",
       "      <th>11</th>\n",
       "      <td>11</td>\n",
       "      <td>11</td>\n",
       "      <td>6</td>\n",
       "    </tr>\n",
       "    <tr>\n",
       "      <th>24</th>\n",
       "      <td>24</td>\n",
       "      <td>24</td>\n",
       "      <td>6</td>\n",
       "    </tr>\n",
       "    <tr>\n",
       "      <th>21</th>\n",
       "      <td>21</td>\n",
       "      <td>21</td>\n",
       "      <td>6</td>\n",
       "    </tr>\n",
       "    <tr>\n",
       "      <th>99</th>\n",
       "      <td>99</td>\n",
       "      <td>99</td>\n",
       "      <td>6</td>\n",
       "    </tr>\n",
       "  </tbody>\n",
       "</table>\n",
       "<p>100 rows × 3 columns</p>\n",
       "</div>"
      ],
      "text/plain": [
       "    Unnamed: 0  roll  value\n",
       "0            0     0      1\n",
       "47          47    47      1\n",
       "56          56    56      1\n",
       "9            9     9      1\n",
       "73          73    73      1\n",
       "..         ...   ...    ...\n",
       "17          17    17      6\n",
       "11          11    11      6\n",
       "24          24    24      6\n",
       "21          21    21      6\n",
       "99          99    99      6\n",
       "\n",
       "[100 rows x 3 columns]"
      ]
     },
     "execution_count": 21,
     "metadata": {},
     "output_type": "execute_result"
    }
   ],
   "source": [
    "data_ordenado = data.sort_values(by='value')\n",
    "data_ordenado"
   ]
  },
  {
   "cell_type": "markdown",
   "metadata": {},
   "source": [
    "#### 2.- Using the functions you defined in *challenge 2*, calculate the mean value of the hundred dice rolls."
   ]
  },
  {
   "cell_type": "code",
   "execution_count": 22,
   "metadata": {},
   "outputs": [
    {
     "data": {
      "text/plain": [
       "(1.0, 3.0, 5)"
      ]
     },
     "execution_count": 22,
     "metadata": {},
     "output_type": "execute_result"
    }
   ],
   "source": [
    "tiradas = np.random.randint(1, 7, 100)\n",
    "\n",
    "valor_medio = np.mean(tiradas)\n",
    "\n",
    "def calcular_cuartiles(datos):\n",
    "\n",
    "    datos_ordenados = sorted(datos)\n",
    "    \n",
    "    mediana = calcular_mediana(datos_ordenados)\n",
    "    \n",
    "    mitad_inferior = [dato for dato in datos_ordenados if dato < mediana]\n",
    "    mitad_superior = [dato for dato in datos_ordenados if dato > mediana]\n",
    "    \n",
    "    cuartil_1 = calcular_mediana(mitad_inferior)\n",
    "    cuartil_3 = calcular_mediana(mitad_superior)\n",
    "    \n",
    "    return cuartil_1, mediana, cuartil_3\n",
    "\n",
    "def calcular_mediana(datos):\n",
    "    n = len(datos)\n",
    "    if n % 2 == 0:\n",
    "        \n",
    "        # Si hay un número par de datos, la mediana es el promedio de los dos datos centrales\n",
    "        indice_central_1 = n // 2 - 1\n",
    "        indice_central_2 = n // 2\n",
    "        mediana = (datos[indice_central_1] + datos[indice_central_2]) / 2\n",
    "    else:\n",
    "        \n",
    "        # Si hay un número impar de datos, la mediana es el dato central\n",
    "        indice_central = n // 2\n",
    "        mediana = datos[indice_central]\n",
    "    return mediana\n",
    "\n",
    "cuartil_1, mediana, cuartil_3 = calcular_cuartiles(tiradas)\n",
    "cuartil_1, mediana, cuartil_3\n"
   ]
  },
  {
   "cell_type": "markdown",
   "metadata": {},
   "source": [
    "#### 3.- Now, calculate the frequency distribution.\n"
   ]
  },
  {
   "cell_type": "code",
   "execution_count": 23,
   "metadata": {},
   "outputs": [
    {
     "name": "stdout",
     "output_type": "stream",
     "text": [
      "2.0 4.0 6\n",
      "Counter({6: 22, 4: 19, 3: 17, 1: 16, 2: 15, 5: 11})\n"
     ]
    }
   ],
   "source": [
    "tiradas = np.random.randint(1, 7, 100)\n",
    "\n",
    "valor_medio = np.mean(tiradas)\n",
    "\n",
    "def calcular_cuartiles(datos):\n",
    "\n",
    "    datos_ordenados = sorted(datos)\n",
    "    \n",
    "    mediana = calcular_mediana(datos_ordenados)\n",
    "    \n",
    "    mitad_inferior = [dato for dato in datos_ordenados if dato < mediana]\n",
    "    mitad_superior = [dato for dato in datos_ordenados if dato > mediana]\n",
    "    \n",
    "    cuartil_1 = calcular_mediana(mitad_inferior)\n",
    "    cuartil_3 = calcular_mediana(mitad_superior)\n",
    "    \n",
    "    return cuartil_1, mediana, cuartil_3\n",
    "\n",
    "def calcular_mediana(datos):\n",
    "    n = len(datos)\n",
    "    if n % 2 == 0:\n",
    "        \n",
    "        # Si hay un número par de datos, la mediana es el promedio de los dos datos centrales\n",
    "        indice_central_1 = n // 2 - 1\n",
    "        indice_central_2 = n // 2\n",
    "        mediana = (datos[indice_central_1] + datos[indice_central_2]) / 2\n",
    "    else:\n",
    "        \n",
    "        # Si hay un número impar de datos, la mediana es el dato central\n",
    "        indice_central = n // 2\n",
    "        mediana = datos[indice_central]\n",
    "    return mediana\n",
    "\n",
    "\n",
    "cuartil_1, mediana, cuartil_3 = calcular_cuartiles(tiradas)\n",
    "print(cuartil_1, mediana, cuartil_3)\n",
    "\n",
    "frecuencias = Counter(tiradas)\n",
    "print(frecuencias)"
   ]
  },
  {
   "cell_type": "markdown",
   "metadata": {},
   "source": [
    "#### 4.- Plot the histogram. What do you see (shape, values...) ? How can you connect the mean value to the histogram? "
   ]
  },
  {
   "cell_type": "code",
   "execution_count": 24,
   "metadata": {},
   "outputs": [
    {
     "data": {
      "image/png": "[encoded data removed]",
      "text/plain": [
       "<Figure size 1000x600 with 1 Axes>"
      ]
     },
     "metadata": {},
     "output_type": "display_data"
    }
   ],
   "source": [
    "plt.figure(figsize=(10, 6))\n",
    "plt.hist(tiradas, bins=np.arange(1, 8) - 0.5, edgecolor='black', alpha=0.7)\n",
    "plt.axvline(valor_medio, color='r', linestyle='dashed', linewidth=1, label=f'Valor medio: {valor_medio:.2f}')\n",
    "plt.xlabel('Valor del dado')\n",
    "plt.ylabel('Frecuencia')\n",
    "plt.title('Histograma de las tiradas de dados')\n",
    "plt.legend()\n",
    "plt.xticks(range(1, 7))\n",
    "plt.grid(True)\n",
    "plt.show()"
   ]
  },
  {
   "cell_type": "code",
   "execution_count": null,
   "metadata": {},
   "outputs": [],
   "source": [
    "\"\"\"\n",
    "La distribución no es completamente uniforme. Aunque los valores 1, 2 y 3 tienen frecuencias similares, hay un pico notable en 6 y una frecuencia muy baja en 5.\n",
    "El valor medio de 3.60 sugiere una ligera inclinación hacia los valores más altos debido a la frecuencia elevada del 6.\n",
    "Este tipo de análisis puede ayudar a entender la tendencia central y la dispersión de los resultados del dado, así como a identificar cualquier sesgo potencial en el dado (en caso de que fuera un experimento real).\n",
    "\"\"\""
   ]
  },
  {
   "cell_type": "markdown",
   "metadata": {},
   "source": [
    "#### 5.- Read the `roll_the_dice_thousand.csv` from the `data` folder. Plot the frequency distribution as you did before. Has anything changed? Why do you think it changed?"
   ]
  },
  {
   "cell_type": "code",
   "execution_count": 25,
   "metadata": {
    "scrolled": true
   },
   "outputs": [
    {
     "data": {
      "text/html": [
       "<div>\n",
       "<style scoped>\n",
       "    .dataframe tbody tr th:only-of-type {\n",
       "        vertical-align: middle;\n",
       "    }\n",
       "\n",
       "    .dataframe tbody tr th {\n",
       "        vertical-align: top;\n",
       "    }\n",
       "\n",
       "    .dataframe thead th {\n",
       "        text-align: right;\n",
       "    }\n",
       "</style>\n",
       "<table border=\"1\" class=\"dataframe\">\n",
       "  <thead>\n",
       "    <tr style=\"text-align: right;\">\n",
       "      <th></th>\n",
       "      <th>Unnamed: 0</th>\n",
       "      <th>roll</th>\n",
       "      <th>value</th>\n",
       "    </tr>\n",
       "  </thead>\n",
       "  <tbody>\n",
       "    <tr>\n",
       "      <th>0</th>\n",
       "      <td>0</td>\n",
       "      <td>0</td>\n",
       "      <td>1</td>\n",
       "    </tr>\n",
       "    <tr>\n",
       "      <th>1</th>\n",
       "      <td>1</td>\n",
       "      <td>1</td>\n",
       "      <td>2</td>\n",
       "    </tr>\n",
       "    <tr>\n",
       "      <th>2</th>\n",
       "      <td>2</td>\n",
       "      <td>2</td>\n",
       "      <td>6</td>\n",
       "    </tr>\n",
       "    <tr>\n",
       "      <th>3</th>\n",
       "      <td>3</td>\n",
       "      <td>3</td>\n",
       "      <td>1</td>\n",
       "    </tr>\n",
       "    <tr>\n",
       "      <th>4</th>\n",
       "      <td>4</td>\n",
       "      <td>4</td>\n",
       "      <td>6</td>\n",
       "    </tr>\n",
       "    <tr>\n",
       "      <th>...</th>\n",
       "      <td>...</td>\n",
       "      <td>...</td>\n",
       "      <td>...</td>\n",
       "    </tr>\n",
       "    <tr>\n",
       "      <th>95</th>\n",
       "      <td>95</td>\n",
       "      <td>95</td>\n",
       "      <td>4</td>\n",
       "    </tr>\n",
       "    <tr>\n",
       "      <th>96</th>\n",
       "      <td>96</td>\n",
       "      <td>96</td>\n",
       "      <td>6</td>\n",
       "    </tr>\n",
       "    <tr>\n",
       "      <th>97</th>\n",
       "      <td>97</td>\n",
       "      <td>97</td>\n",
       "      <td>1</td>\n",
       "    </tr>\n",
       "    <tr>\n",
       "      <th>98</th>\n",
       "      <td>98</td>\n",
       "      <td>98</td>\n",
       "      <td>3</td>\n",
       "    </tr>\n",
       "    <tr>\n",
       "      <th>99</th>\n",
       "      <td>99</td>\n",
       "      <td>99</td>\n",
       "      <td>6</td>\n",
       "    </tr>\n",
       "  </tbody>\n",
       "</table>\n",
       "<p>100 rows × 3 columns</p>\n",
       "</div>"
      ],
      "text/plain": [
       "    Unnamed: 0  roll  value\n",
       "0            0     0      1\n",
       "1            1     1      2\n",
       "2            2     2      6\n",
       "3            3     3      1\n",
       "4            4     4      6\n",
       "..         ...   ...    ...\n",
       "95          95    95      4\n",
       "96          96    96      6\n",
       "97          97    97      1\n",
       "98          98    98      3\n",
       "99          99    99      6\n",
       "\n",
       "[100 rows x 3 columns]"
      ]
     },
     "execution_count": 25,
     "metadata": {},
     "output_type": "execute_result"
    }
   ],
   "source": [
    "# your code here\n",
    "\n",
    "data1 = pd.read_csv('../data/roll_the_dice_hundred.csv')\n",
    "data1"
   ]
  },
  {
   "cell_type": "code",
   "execution_count": null,
   "metadata": {},
   "outputs": [],
   "source": [
    "\"\"\"\n",
    "your comments here\n",
    "\"\"\""
   ]
  },
  {
   "cell_type": "markdown",
   "metadata": {},
   "source": [
    "## Challenge 4\n",
    "In the `data` folder of this repository you will find three different files with the prefix `ages_population`. These files contain information about a poll answered by a thousand people regarding their age. Each file corresponds to the poll answers in different neighbourhoods of Barcelona.\n",
    "\n",
    "#### 1.- Read the file `ages_population.csv`. Calculate the frequency distribution and plot it as we did during the lesson. Try to guess the range in which the mean and the standard deviation will be by looking at the plot. "
   ]
  },
  {
   "cell_type": "code",
   "execution_count": 27,
   "metadata": {
    "scrolled": true
   },
   "outputs": [
    {
     "data": {
      "text/html": [
       "<div>\n",
       "<style scoped>\n",
       "    .dataframe tbody tr th:only-of-type {\n",
       "        vertical-align: middle;\n",
       "    }\n",
       "\n",
       "    .dataframe tbody tr th {\n",
       "        vertical-align: top;\n",
       "    }\n",
       "\n",
       "    .dataframe thead th {\n",
       "        text-align: right;\n",
       "    }\n",
       "</style>\n",
       "<table border=\"1\" class=\"dataframe\">\n",
       "  <thead>\n",
       "    <tr style=\"text-align: right;\">\n",
       "      <th></th>\n",
       "      <th>observation</th>\n",
       "    </tr>\n",
       "  </thead>\n",
       "  <tbody>\n",
       "    <tr>\n",
       "      <th>0</th>\n",
       "      <td>68.0</td>\n",
       "    </tr>\n",
       "    <tr>\n",
       "      <th>1</th>\n",
       "      <td>12.0</td>\n",
       "    </tr>\n",
       "    <tr>\n",
       "      <th>2</th>\n",
       "      <td>45.0</td>\n",
       "    </tr>\n",
       "    <tr>\n",
       "      <th>3</th>\n",
       "      <td>38.0</td>\n",
       "    </tr>\n",
       "    <tr>\n",
       "      <th>4</th>\n",
       "      <td>49.0</td>\n",
       "    </tr>\n",
       "    <tr>\n",
       "      <th>...</th>\n",
       "      <td>...</td>\n",
       "    </tr>\n",
       "    <tr>\n",
       "      <th>995</th>\n",
       "      <td>27.0</td>\n",
       "    </tr>\n",
       "    <tr>\n",
       "      <th>996</th>\n",
       "      <td>47.0</td>\n",
       "    </tr>\n",
       "    <tr>\n",
       "      <th>997</th>\n",
       "      <td>53.0</td>\n",
       "    </tr>\n",
       "    <tr>\n",
       "      <th>998</th>\n",
       "      <td>33.0</td>\n",
       "    </tr>\n",
       "    <tr>\n",
       "      <th>999</th>\n",
       "      <td>31.0</td>\n",
       "    </tr>\n",
       "  </tbody>\n",
       "</table>\n",
       "<p>1000 rows × 1 columns</p>\n",
       "</div>"
      ],
      "text/plain": [
       "     observation\n",
       "0           68.0\n",
       "1           12.0\n",
       "2           45.0\n",
       "3           38.0\n",
       "4           49.0\n",
       "..           ...\n",
       "995         27.0\n",
       "996         47.0\n",
       "997         53.0\n",
       "998         33.0\n",
       "999         31.0\n",
       "\n",
       "[1000 rows x 1 columns]"
      ]
     },
     "execution_count": 27,
     "metadata": {},
     "output_type": "execute_result"
    }
   ],
   "source": [
    "# your code here\n",
    "age_pop = pd.read_csv('../data/ages_population.csv')\n",
    "age_pop"
   ]
  },
  {
   "cell_type": "code",
   "execution_count": 33,
   "metadata": {},
   "outputs": [
    {
     "data": {
      "image/png": "[encoded data removed]",
      "text/plain": [
       "<Figure size 1000x500 with 1 Axes>"
      ]
     },
     "metadata": {},
     "output_type": "display_data"
    },
    {
     "name": "stdout",
     "output_type": "stream",
     "text": [
      "Descripción de los datos: count    1000.0000\n",
      "mean       36.5600\n",
      "std        12.8165\n",
      "min         1.0000\n",
      "25%        28.0000\n",
      "50%        37.0000\n",
      "75%        45.0000\n",
      "max        82.0000\n",
      "Name: observation, dtype: float64\n",
      "Frecuencias: Counter({39.0: 45, 41.0: 36, 30.0: 34, 35.0: 33, 42.0: 32, 43.0: 32, 36.0: 31, 38.0: 30, 32.0: 30, 37.0: 30, 45.0: 29, 34.0: 29, 40.0: 27, 29.0: 26, 27.0: 25, 31.0: 24, 44.0: 23, 46.0: 23, 26.0: 23, 33.0: 22, 28.0: 20, 49.0: 19, 25.0: 19, 48.0: 19, 24.0: 18, 23.0: 17, 47.0: 17, 50.0: 16, 22.0: 16, 56.0: 15, 52.0: 14, 21.0: 14, 20.0: 13, 54.0: 13, 55.0: 13, 53.0: 12, 12.0: 11, 19.0: 11, 14.0: 10, 17.0: 10, 51.0: 9, 15.0: 8, 16.0: 8, 59.0: 8, 63.0: 7, 18.0: 7, 58.0: 7, 57.0: 7, 13.0: 6, 8.0: 5, 60.0: 4, 62.0: 4, 67.0: 4, 68.0: 3, 66.0: 3, 11.0: 3, 10.0: 3, 6.0: 2, 61.0: 2, 64.0: 2, 1.0: 2, 2.0: 2, 5.0: 2, 9.0: 2, 65.0: 2, 7.0: 1, 4.0: 1, 73.0: 1, 82.0: 1, 70.0: 1, 71.0: 1, 69.0: 1})\n"
     ]
    }
   ],
   "source": [
    "ages = age_pop['observation']\n",
    "frecuencias = Counter(ages)\n",
    "\n",
    "valores = list(frecuencias.keys())\n",
    "conteos = list(frecuencias.values())\n",
    "\n",
    "plt.figure(figsize=(10, 5))\n",
    "plt.bar(valores, conteos, color='skyblue')\n",
    "plt.title('Distribución de Frecuencias de Edades')\n",
    "plt.xlabel('Edad')\n",
    "plt.ylabel('Frecuencia')\n",
    "plt.grid(True)\n",
    "plt.show()\n",
    "\n",
    "# Mostrar un resumen de los datos\n",
    "print(\"Descripción de los datos:\", ages.describe())\n",
    "print(\"Frecuencias:\", frecuencias)"
   ]
  },
  {
   "cell_type": "markdown",
   "metadata": {},
   "source": [
    "#### 2.- Calculate the exact mean and standard deviation and compare them with your guesses. Do they fall inside the ranges you guessed?"
   ]
  },
  {
   "cell_type": "code",
   "execution_count": 34,
   "metadata": {},
   "outputs": [
    {
     "name": "stdout",
     "output_type": "stream",
     "text": [
      "Media calculada: 36.56\n",
      "Desviación estándar calculada: 12.81008977329979\n"
     ]
    }
   ],
   "source": [
    "# your code here\n",
    "\n",
    "suma = sum(ages)\n",
    "n = len(ages)\n",
    "media = suma / n\n",
    "varianza = sum((x - media) ** 2 for x in ages) / n\n",
    "desviacion_estandar = varianza ** 0.5\n",
    "\n",
    "print(\"Media calculada:\", media)\n",
    "print(\"Desviación estándar calculada:\", desviacion_estandar)"
   ]
  },
  {
   "cell_type": "code",
   "execution_count": null,
   "metadata": {},
   "outputs": [],
   "source": [
    "\"\"\"\n",
    "Sí, coinciden, aunque la desviación estandar falla por 0.0065\n",
    "\"\"\""
   ]
  },
  {
   "cell_type": "markdown",
   "metadata": {},
   "source": [
    "#### 3.- Now read the file `ages_population2.csv` . Calculate the frequency distribution and plot it."
   ]
  },
  {
   "cell_type": "code",
   "execution_count": 35,
   "metadata": {
    "scrolled": true
   },
   "outputs": [
    {
     "data": {
      "text/html": [
       "<div>\n",
       "<style scoped>\n",
       "    .dataframe tbody tr th:only-of-type {\n",
       "        vertical-align: middle;\n",
       "    }\n",
       "\n",
       "    .dataframe tbody tr th {\n",
       "        vertical-align: top;\n",
       "    }\n",
       "\n",
       "    .dataframe thead th {\n",
       "        text-align: right;\n",
       "    }\n",
       "</style>\n",
       "<table border=\"1\" class=\"dataframe\">\n",
       "  <thead>\n",
       "    <tr style=\"text-align: right;\">\n",
       "      <th></th>\n",
       "      <th>observation</th>\n",
       "    </tr>\n",
       "  </thead>\n",
       "  <tbody>\n",
       "    <tr>\n",
       "      <th>0</th>\n",
       "      <td>25.0</td>\n",
       "    </tr>\n",
       "    <tr>\n",
       "      <th>1</th>\n",
       "      <td>31.0</td>\n",
       "    </tr>\n",
       "    <tr>\n",
       "      <th>2</th>\n",
       "      <td>29.0</td>\n",
       "    </tr>\n",
       "    <tr>\n",
       "      <th>3</th>\n",
       "      <td>31.0</td>\n",
       "    </tr>\n",
       "    <tr>\n",
       "      <th>4</th>\n",
       "      <td>29.0</td>\n",
       "    </tr>\n",
       "    <tr>\n",
       "      <th>...</th>\n",
       "      <td>...</td>\n",
       "    </tr>\n",
       "    <tr>\n",
       "      <th>995</th>\n",
       "      <td>26.0</td>\n",
       "    </tr>\n",
       "    <tr>\n",
       "      <th>996</th>\n",
       "      <td>22.0</td>\n",
       "    </tr>\n",
       "    <tr>\n",
       "      <th>997</th>\n",
       "      <td>21.0</td>\n",
       "    </tr>\n",
       "    <tr>\n",
       "      <th>998</th>\n",
       "      <td>19.0</td>\n",
       "    </tr>\n",
       "    <tr>\n",
       "      <th>999</th>\n",
       "      <td>28.0</td>\n",
       "    </tr>\n",
       "  </tbody>\n",
       "</table>\n",
       "<p>1000 rows × 1 columns</p>\n",
       "</div>"
      ],
      "text/plain": [
       "     observation\n",
       "0           25.0\n",
       "1           31.0\n",
       "2           29.0\n",
       "3           31.0\n",
       "4           29.0\n",
       "..           ...\n",
       "995         26.0\n",
       "996         22.0\n",
       "997         21.0\n",
       "998         19.0\n",
       "999         28.0\n",
       "\n",
       "[1000 rows x 1 columns]"
      ]
     },
     "execution_count": 35,
     "metadata": {},
     "output_type": "execute_result"
    }
   ],
   "source": [
    "# your code here\n",
    "\n",
    "age_pop2 = pd.read_csv('../data/ages_population2.csv')\n",
    "age_pop2"
   ]
  },
  {
   "cell_type": "code",
   "execution_count": 44,
   "metadata": {},
   "outputs": [
    {
     "data": {
      "image/png": "[encoded data removed]",
      "text/plain": [
       "<Figure size 1000x500 with 1 Axes>"
      ]
     },
     "metadata": {},
     "output_type": "display_data"
    },
    {
     "name": "stdout",
     "output_type": "stream",
     "text": [
      "Descripción de los datos: count    1000.000000\n",
      "mean       27.155000\n",
      "std         2.969814\n",
      "min        19.000000\n",
      "25%        25.000000\n",
      "50%        27.000000\n",
      "75%        29.000000\n",
      "max        36.000000\n",
      "Name: observation, dtype: float64\n",
      "Frecuencias: Counter({28.0: 139, 27.0: 125, 26.0: 120, 29.0: 115, 25.0: 98, 30.0: 90, 24.0: 78, 31.0: 61, 23.0: 41, 22.0: 35, 32.0: 31, 33.0: 22, 21.0: 17, 20.0: 13, 34.0: 7, 19.0: 3, 35.0: 3, 36.0: 2})\n"
     ]
    }
   ],
   "source": [
    "ages = age_pop2['observation']\n",
    "frecuencias = Counter(ages)\n",
    "\n",
    "valores = list(frecuencias.keys())\n",
    "conteos = list(frecuencias.values())\n",
    "\n",
    "plt.figure(figsize=(10, 5))\n",
    "plt.bar(valores, conteos, color='skyblue')\n",
    "plt.title('Distribución de Frecuencias de Edades')\n",
    "plt.xlabel('Edad')\n",
    "plt.ylabel('Frecuencia')\n",
    "plt.grid(True)\n",
    "plt.show()\n",
    "\n",
    "# Mostrar un resumen de los datos\n",
    "print(\"Descripción de los datos:\", ages.describe())\n",
    "print(\"Frecuencias:\", frecuencias)"
   ]
  },
  {
   "cell_type": "markdown",
   "metadata": {},
   "source": [
    "####  4.- What do you see? Is there any difference with the frequency distribution in step 1?"
   ]
  },
  {
   "cell_type": "code",
   "execution_count": null,
   "metadata": {},
   "outputs": [],
   "source": [
    "\"\"\"\n",
    "Podemos confirmar que hay muchos menos valores en ages_population2 que en ages_population, además de que la mayor frecuencia de\n",
    "edad se encuentra en 28, no como en ages_population que se encuentra en 39.\n",
    "\"\"\""
   ]
  },
  {
   "cell_type": "markdown",
   "metadata": {},
   "source": [
    "#### 5.- Calculate the mean and standard deviation. Compare the results with the mean and standard deviation in step 2. What do you think?"
   ]
  },
  {
   "cell_type": "code",
   "execution_count": 40,
   "metadata": {},
   "outputs": [
    {
     "name": "stdout",
     "output_type": "stream",
     "text": [
      "Media calculada: 27.155\n",
      "Desviación estándar calculada: 2.9683286543103704\n"
     ]
    }
   ],
   "source": [
    "# your code here\n",
    "ages = age_pop2['observation']\n",
    "\n",
    "suma = sum(ages)\n",
    "n = len(ages)\n",
    "media = suma / n\n",
    "varianza = sum((x - media) ** 2 for x in ages) / n\n",
    "desviacion_estandar = varianza ** 0.5\n",
    "\n",
    "print(\"Media calculada:\", media)\n",
    "print(\"Desviación estándar calculada:\", desviacion_estandar)"
   ]
  },
  {
   "cell_type": "code",
   "execution_count": null,
   "metadata": {},
   "outputs": [],
   "source": [
    "\"\"\"\n",
    "El primer conjunto de datos tiene una media más alta y una mayor dispersión, \n",
    "lo que indica que los valores son más variados y más elevados en general.\n",
    "\n",
    "El segundo conjunto de datos tiene una media más baja y una menor dispersión, \n",
    "indicando que los valores son más consistentes y más cercanos entre sí.\n",
    "\n",
    "Si estos conjuntos de datos representaran, por ejemplo, edades en diferentes vecindarios, \n",
    "podríamos decir que el primer vecindario tiene una población con edades más variadas y generalmente más altas, \n",
    "mientras que el segundo vecindario tiene una población con edades más concentradas alrededor de la media, \n",
    "y generalmente más jóvenes.\n",
    "\"\"\""
   ]
  },
  {
   "cell_type": "markdown",
   "metadata": {},
   "source": [
    "## Challenge 5\n",
    "Now is the turn of `ages_population3.csv`.\n",
    "\n",
    "#### 1.- Read the file `ages_population3.csv`. Calculate the frequency distribution and plot it."
   ]
  },
  {
   "cell_type": "code",
   "execution_count": 38,
   "metadata": {},
   "outputs": [
    {
     "data": {
      "text/html": [
       "<div>\n",
       "<style scoped>\n",
       "    .dataframe tbody tr th:only-of-type {\n",
       "        vertical-align: middle;\n",
       "    }\n",
       "\n",
       "    .dataframe tbody tr th {\n",
       "        vertical-align: top;\n",
       "    }\n",
       "\n",
       "    .dataframe thead th {\n",
       "        text-align: right;\n",
       "    }\n",
       "</style>\n",
       "<table border=\"1\" class=\"dataframe\">\n",
       "  <thead>\n",
       "    <tr style=\"text-align: right;\">\n",
       "      <th></th>\n",
       "      <th>observation</th>\n",
       "    </tr>\n",
       "  </thead>\n",
       "  <tbody>\n",
       "    <tr>\n",
       "      <th>0</th>\n",
       "      <td>21.0</td>\n",
       "    </tr>\n",
       "    <tr>\n",
       "      <th>1</th>\n",
       "      <td>21.0</td>\n",
       "    </tr>\n",
       "    <tr>\n",
       "      <th>2</th>\n",
       "      <td>24.0</td>\n",
       "    </tr>\n",
       "    <tr>\n",
       "      <th>3</th>\n",
       "      <td>31.0</td>\n",
       "    </tr>\n",
       "    <tr>\n",
       "      <th>4</th>\n",
       "      <td>54.0</td>\n",
       "    </tr>\n",
       "    <tr>\n",
       "      <th>...</th>\n",
       "      <td>...</td>\n",
       "    </tr>\n",
       "    <tr>\n",
       "      <th>995</th>\n",
       "      <td>16.0</td>\n",
       "    </tr>\n",
       "    <tr>\n",
       "      <th>996</th>\n",
       "      <td>55.0</td>\n",
       "    </tr>\n",
       "    <tr>\n",
       "      <th>997</th>\n",
       "      <td>30.0</td>\n",
       "    </tr>\n",
       "    <tr>\n",
       "      <th>998</th>\n",
       "      <td>35.0</td>\n",
       "    </tr>\n",
       "    <tr>\n",
       "      <th>999</th>\n",
       "      <td>43.0</td>\n",
       "    </tr>\n",
       "  </tbody>\n",
       "</table>\n",
       "<p>1000 rows × 1 columns</p>\n",
       "</div>"
      ],
      "text/plain": [
       "     observation\n",
       "0           21.0\n",
       "1           21.0\n",
       "2           24.0\n",
       "3           31.0\n",
       "4           54.0\n",
       "..           ...\n",
       "995         16.0\n",
       "996         55.0\n",
       "997         30.0\n",
       "998         35.0\n",
       "999         43.0\n",
       "\n",
       "[1000 rows x 1 columns]"
      ]
     },
     "execution_count": 38,
     "metadata": {},
     "output_type": "execute_result"
    }
   ],
   "source": [
    "# your code here\n",
    "\n",
    "age_pop3 = pd.read_csv('../data/ages_population3.csv')\n",
    "age_pop3"
   ]
  },
  {
   "cell_type": "markdown",
   "metadata": {},
   "source": [
    "#### 2.- Calculate the mean and standard deviation. Compare the results with the plot in step 1. What is happening?"
   ]
  },
  {
   "cell_type": "code",
   "execution_count": 41,
   "metadata": {},
   "outputs": [
    {
     "name": "stdout",
     "output_type": "stream",
     "text": [
      "Media calculada: 41.989\n",
      "Desviación estándar calculada: 16.136631587788084\n"
     ]
    }
   ],
   "source": [
    "# your code here\n",
    "\n",
    "ages = age_pop3['observation']\n",
    "\n",
    "suma = sum(ages)\n",
    "n = len(ages)\n",
    "media = suma / n\n",
    "varianza = sum((x - media) ** 2 for x in ages) / n\n",
    "desviacion_estandar = varianza ** 0.5\n",
    "\n",
    "print(\"Media calculada:\", media)\n",
    "print(\"Desviación estándar calculada:\", desviacion_estandar)"
   ]
  },
  {
   "cell_type": "code",
   "execution_count": null,
   "metadata": {},
   "outputs": [],
   "source": [
    "\"\"\"\n",
    "Ambos conjuntos de datos tienen medias bastante altas, pero el segundo conjunto tiene una media más alta, \n",
    "lo que indica valores promedio mayores.\n",
    "La mayor desviación estándar en el segundo conjunto sugiere que los valores están más dispersos y la variabilidad ç\n",
    "es mayor que en el primer conjunto.\n",
    "\"\"\""
   ]
  },
  {
   "cell_type": "markdown",
   "metadata": {},
   "source": [
    "#### 3.- Calculate the four quartiles. Use the results to explain your reasoning for question in step 2. How much of a difference is there between the median and the mean?"
   ]
  },
  {
   "cell_type": "code",
   "execution_count": 42,
   "metadata": {},
   "outputs": [
    {
     "data": {
      "image/png": "[encoded data removed]",
      "text/plain": [
       "<Figure size 1000x500 with 1 Axes>"
      ]
     },
     "metadata": {},
     "output_type": "display_data"
    },
    {
     "name": "stdout",
     "output_type": "stream",
     "text": [
      "Media calculada: 41.989\n",
      "Desviación estándar calculada: 16.136631587788084\n",
      "Primer cuartil (Q1): 30.0\n",
      "Segundo cuartil (Q2 - Mediana): 40.0\n",
      "Tercer cuartil (Q3): 53.0\n",
      "Cuarto cuartil (Q4): 77.0\n",
      "Diferencia entre la mediana y la media: 1.9889999999999972\n"
     ]
    }
   ],
   "source": [
    "# your code here\n",
    "\n",
    "ages = age_pop3['observation']\n",
    "frecuencias = Counter(ages)\n",
    "\n",
    "# Extraer los valores y las frecuencias\n",
    "valores = list(frecuencias.keys())\n",
    "conteos = list(frecuencias.values())\n",
    "\n",
    "# Graficar la distribución de frecuencias\n",
    "plt.figure(figsize=(10, 5))\n",
    "plt.bar(valores, conteos, color='skyblue')\n",
    "plt.title('Distribución de Frecuencias de Edades')\n",
    "plt.xlabel('Edad')\n",
    "plt.ylabel('Frecuencia')\n",
    "plt.grid(True)\n",
    "plt.show()\n",
    "\n",
    "# Calcular la media y la desviación estándar\n",
    "suma = sum(ages)\n",
    "n = len(ages)\n",
    "media = suma / n\n",
    "varianza = sum((x - media) ** 2 for x in ages) / n\n",
    "desviacion_estandar = varianza ** 0.5\n",
    "\n",
    "# Calcular los cuartiles\n",
    "sorted_ages = sorted(ages)\n",
    "Q1 = sorted_ages[int(n * 0.25)]\n",
    "Q2 = sorted_ages[int(n * 0.50)]  # La mediana\n",
    "Q3 = sorted_ages[int(n * 0.75)]\n",
    "Q4 = sorted_ages[int(n * 1.00) - 1]  # El valor máximo\n",
    "\n",
    "# Mostrar resultados\n",
    "print(\"Media calculada:\", media)\n",
    "print(\"Desviación estándar calculada:\", desviacion_estandar)\n",
    "print(\"Primer cuartil (Q1):\", Q1)\n",
    "print(\"Segundo cuartil (Q2 - Mediana):\", Q2)\n",
    "print(\"Tercer cuartil (Q3):\", Q3)\n",
    "print(\"Cuarto cuartil (Q4):\", Q4)\n",
    "print(\"Diferencia entre la mediana y la media:\", abs(Q2 - media))\n"
   ]
  },
  {
   "cell_type": "code",
   "execution_count": null,
   "metadata": {},
   "outputs": [],
   "source": [
    "\"\"\"\n",
    "La media más alta que la mediana sugiere una ligera asimetría hacia la derecha. Esto es común en distribuciones donde \n",
    "hay algunos valores extremadamente altos que afectan el promedio.\n",
    "\n",
    "Los datos están mayormente concentrados alrededor del valor central (mediana), pero hay algunos valores \n",
    "altos que elevan la media. La mediana proporciona una buena medida del centro de la distribución, mientras que la media \n",
    "muestra que hay valores altos que afectan el promedio.\n",
    "\"\"\""
   ]
  },
  {
   "cell_type": "markdown",
   "metadata": {},
   "source": [
    "#### 4.- Calculate other percentiles that might be useful to give more arguments to your reasoning."
   ]
  },
  {
   "cell_type": "code",
   "execution_count": 43,
   "metadata": {},
   "outputs": [
    {
     "name": "stdout",
     "output_type": "stream",
     "text": [
      "Percentiles:\n",
      "10th percentile: 22.0\n",
      "25th percentile: 30.0\n",
      "50th percentile: 40.0\n",
      "75th percentile: 53.0\n",
      "90th percentile: 67.0\n"
     ]
    }
   ],
   "source": [
    "# your code here\n",
    "sorted_ages = sorted(ages)\n",
    "percentiles = [10, 25, 50, 75, 90]\n",
    "percentile_values = {p: sorted_ages[int(n * p / 100)] for p in percentiles}\n",
    "print(\"Percentiles:\")\n",
    "for p, value in percentile_values.items():\n",
    "    print(f\"{p}th percentile: {value}\")"
   ]
  },
  {
   "cell_type": "code",
   "execution_count": null,
   "metadata": {},
   "outputs": [],
   "source": [
    "\"\"\"\n",
    "Percentil 10 (P10):\n",
    "\n",
    "El 10% de los datos son menores o iguales a 22.0.\n",
    "Esto sugiere que el 10% inferior de los datos se concentra en valores relativamente bajos.\n",
    "\n",
    "Percentil 25 (Q1):\n",
    "\n",
    "El 25% de los datos son menores o iguales a 30.0.\n",
    "Este valor es el primer cuartil y representa el valor debajo del cual se encuentra el primer cuarto de la distribución.\n",
    "\n",
    "Percentil 50 (Q2 - Mediana):\n",
    "\n",
    "El 50% de los datos son menores o iguales a 40.0.\n",
    "La mediana divide el conjunto de datos en dos mitades iguales, lo que indica que la mitad de los datos están por debajo de 40.0 y la otra mitad por encima.\n",
    "\n",
    "Percentil 75 (Q3):\n",
    "\n",
    "El 75% de los datos son menores o iguales a 53.0.\n",
    "Este valor es el tercer cuartil y muestra que tres cuartos de los datos están por debajo de 53.0.\n",
    "\n",
    "Percentil 90 (P90):\n",
    "\n",
    "El 90% de los datos son menores o iguales a 67.0.\n",
    "Este percentil indica que solo el 10% superior de los datos tienen valores superiores a 67.0.\"\"\""
   ]
  }
 ],
 "metadata": {
  "kernelspec": {
   "display_name": "Python 3 (ipykernel)",
   "language": "python",
   "name": "python3"
  },
  "language_info": {
   "codemirror_mode": {
    "name": "ipython",
    "version": 3
   },
   "file_extension": ".py",
   "mimetype": "text/x-python",
   "name": "python",
   "nbconvert_exporter": "python",
   "pygments_lexer": "ipython3",
   "version": "3.11.7"
  }
 },
 "nbformat": 4,
 "nbformat_minor": 4
}
